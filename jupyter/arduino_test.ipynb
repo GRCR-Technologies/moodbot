{
 "cells": [
  {
   "cell_type": "code",
   "execution_count": 31,
   "metadata": {},
   "outputs": [
    {
     "name": "stdout",
     "output_type": "stream",
     "text": [
      "255\n"
     ]
    }
   ],
   "source": [
    "print(0xff)"
   ]
  },
  {
   "cell_type": "code",
   "execution_count": 53,
   "metadata": {},
   "outputs": [],
   "source": []
  },
  {
   "cell_type": "markdown",
   "metadata": {},
   "source": []
  },
  {
   "cell_type": "code",
   "execution_count": 15,
   "metadata": {},
   "outputs": [],
   "source": [
    "# crc8 generator\n",
    "\n",
    "def get_crc8( data: bytes, poly: int) -> int:\n",
    "        crc = 0\n",
    "        for b in data:\n",
    "            crc ^= b\n",
    "            for i in range(8):\n",
    "                if crc & 1:\n",
    "                    crc = (crc >> 1) ^ poly\n",
    "                else:\n",
    "                    crc >>= 1\n",
    "        return crc & 0xff"
   ]
  },
  {
   "cell_type": "code",
   "execution_count": 56,
   "metadata": {},
   "outputs": [
    {
     "data": {
      "text/plain": [
       "179"
      ]
     },
     "execution_count": 56,
     "metadata": {},
     "output_type": "execute_result"
    }
   ],
   "source": [
    "data = [254, 253, 252, 251, 252]\n",
    "get_crc8(bytes(data), 0X8C)\n"
   ]
  },
  {
   "cell_type": "code",
   "execution_count": 123,
   "metadata": {},
   "outputs": [
    {
     "data": {
      "text/plain": [
       "b'MOODBOT v0.0.1\\r\\n'"
      ]
     },
     "execution_count": 123,
     "metadata": {},
     "output_type": "execute_result"
    }
   ],
   "source": [
    "# open arduino serial port and read initialization message\n",
    "\n",
    "import serial\n",
    "\n",
    "ser = serial.Serial('/dev/tty.usbmodem21301', 9600)\n",
    "ser.readline()"
   ]
  },
  {
   "cell_type": "code",
   "execution_count": 137,
   "metadata": {},
   "outputs": [
    {
     "name": "stdout",
     "output_type": "stream",
     "text": [
      "7\n"
     ]
    },
    {
     "data": {
      "text/plain": [
       "b'5000007:7\\r\\n'"
      ]
     },
     "execution_count": 137,
     "metadata": {},
     "output_type": "execute_result"
    }
   ],
   "source": [
    "# send data to arduino\n",
    "# 0B: start byte\n",
    "# 1B: whl_l_speed\n",
    "# 2B: whl_r_speed\n",
    "# 3B: \n",
    "#     bit 0: whl_l_dir\n",
    "#     bit 1: whl_r_dir\n",
    "#     bit 2: dig_rot_on\n",
    "#     bit 3: dig_rot_dir\n",
    "#     bit 4: dig_move_on\n",
    "#     bit 5: dig_move_dir\n",
    "#     bit 6: led_on\n",
    "# 4B: crc8\n",
    "\n",
    "data = [0xFF,0, 0, 0, 0, 0]\n",
    "crc = get_crc8(bytes(data[1:4]), 0X8C)\n",
    "print(crc)\n",
    "data[5] = crc\n",
    "ser.write(serial.to_bytes(data))\n",
    "ser.readline()"
   ]
  },
  {
   "cell_type": "code",
   "execution_count": 73,
   "metadata": {},
   "outputs": [],
   "source": [
    "ser.close()"
   ]
  },
  {
   "cell_type": "code",
   "execution_count": null,
   "metadata": {},
   "outputs": [],
   "source": []
  }
 ],
 "metadata": {
  "kernelspec": {
   "display_name": "Python 3",
   "language": "python",
   "name": "python3"
  },
  "language_info": {
   "codemirror_mode": {
    "name": "ipython",
    "version": 3
   },
   "file_extension": ".py",
   "mimetype": "text/x-python",
   "name": "python",
   "nbconvert_exporter": "python",
   "pygments_lexer": "ipython3",
   "version": "3.10.9 (main, Dec 15 2022, 17:11:09) [Clang 14.0.0 (clang-1400.0.29.202)]"
  },
  "orig_nbformat": 4,
  "vscode": {
   "interpreter": {
    "hash": "b0fa6594d8f4cbf19f97940f81e996739fb7646882a419484c72d19e05852a7e"
   }
  }
 },
 "nbformat": 4,
 "nbformat_minor": 2
}
